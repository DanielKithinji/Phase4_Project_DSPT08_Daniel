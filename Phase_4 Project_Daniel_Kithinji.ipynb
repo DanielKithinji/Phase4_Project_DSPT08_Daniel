{
 "cells": [
  {
   "cell_type": "markdown",
   "metadata": {},
   "source": [
    "# Building a Movie Recommendation System For ShowMax Films Using MovieLens Dataset"
   ]
  },
  {
   "cell_type": "markdown",
   "metadata": {},
   "source": [
    "- Welcome to the ShowMax Movies Recommender System notebook. In this project, I will leverage MovieLens Dataset obtained from the GroupLens Research Lab https://grouplens.org/datasets/movielens/ located at University of Minnesota to build two distinct recommendation engines:\n",
    "\n",
    "    - Collaborative Filtering Recommender: Employs user interaction data (like movie ratings) to identify patterns and recommend movies based on user preferences.\n",
    "    - Content-Based Recommender: Utilizes movie metadata such as genres, overviews, and other textual features to find similar movies.\n",
    "\n",
    "\n",
    "- Additionally, I will further perform a comparative analysis of both systems to understand their strengths and weaknesses. This notebook is structured into seven main sections:\n",
    "\n",
    "   1. Business Understanding\n",
    "        - Overview of the Project\n",
    "        - Problem statement\n",
    "        - Objectives of the project\n",
    "        - Business challenge and proposed solution\n",
    "   2. Data Understanding\n",
    "   3. Data Preparation- Setting up, Importing Libraries and Utility Functions and Loading\n",
    "   4. Data Cleaning\n",
    "   5. Data Exploration\n",
    "   6. Building a Recommendation System Model:\n",
    "        - Collaborative Filtering Recommender\n",
    "        - Content-Based Recommender\n",
    "   7. Comparison Analysis\n",
    "   8. Recommendations and Conclusion\n"
   ]
  },
  {
   "cell_type": "markdown",
   "metadata": {},
   "source": [
    "##  Business Understanding"
   ]
  },
  {
   "cell_type": "markdown",
   "metadata": {},
   "source": [
    "#### 1.1. Overview of the Project\n",
    "\n",
    "- The Movie streaming industry is highly competitive, with companies such as Hollywood, Ghallywood, Nollywood, Prime Video, Riverwood, White Rhino Films, Amazon and Netflix continually seeking ways to enhance user experience. One of the key strategies for success in the movies market is the use of personalized recommendation systems. Platforms like GroupLens research Lab at the University of Minnesota have demonstrated how data-driven insights from user preferences and viewing behaviours can appreciably improve user engagements by suggesting relevant moview and shows to the users. By use of tailored personalized recommendations, companies aim to increase user retention, drive higher engagement, and grow subscriptions, ultimately boosting long-term customer partronage and loyalty"
   ]
  },
  {
   "cell_type": "markdown",
   "metadata": {},
   "source": [
    "#### 1.2. Problem Statement\n",
    "-  Showmax is a subscription-based video-on-demand streaming service that launched in South Africa on August 19, 2015. It offers a diverse library of content, including series, movies, documentaries, and Showmax Originals, catering to a wide range of viewer preferences.Showmax is primarily owned by MultiChoice Group, holding a 70% stake, with the remaining 30% owned by NBCUniversal. In 2023, Showmax announced a partnership with Comcast's NBCUniversal and Sky, leading to a relaunch in February 2024 with a new app and an expanded content lineup. \n",
    "\n",
    "- With the increasing competition in the streaming industry and the exponential growth of video-on-demand platforms across Africa, Showmax is looking to enhance user engagement and retention by offering a personalized movie recommendation system. Showmax currently caters to a diverse audience across 44 African countries with a wide range of local and international content, including series, movies, and documentaries. However, as the content library continues to grow, users often face challenges in discovering relevant content tailored to their unique preferences, resulting in a suboptimal user experience.\n",
    "\n",
    "- The current recommendation process primarily relies on basic content categories and manual curation, which may not effectively capture evolving user interests or behaviors. This limitation leads to lower content discovery rates, reduced viewing time, and potential user churn. Showmax aims to address these issues by developing an advanced recommendation engine that leverages user interaction data, content metadata, and machine learning algorithms to predict and suggest movies that users are most likely to watch and enjoy.\n",
    "\n",
    "-  Showmax Films faces the challenge of keeping users engaged on the platform for longer periods. Many users may experience decision fatigue when faced with an overwhelming number of movie options. This can lead to dissatisfaction and even subscription cancallations. Showmax Films needs advanced recommender system to provide personalized, relevant movie suggestions based on users' past ratings and preferences, thus enhancing the overall user experience and reducing defection."
   ]
  },
  {
   "cell_type": "markdown",
   "metadata": {},
   "source": [
    "#### 1.3. Objectives of the Project\n",
    "\n",
    "1. To improve content discovery by providing highly personalized movie recommendations to help users easily find content that aligns with their tastes.\n",
    "2. To increase average watch time and overall user engagement by offering relevant suggestions based on individual viewing history, ratings, and genre preferences.\n",
    "3. To help retain users by keeping them continuously engaged with relevant content.\n",
    "4. To utilize a variety of data inputs, including viewing history, user ratings, genre preferences, and content popularity, to make dynamic and context-aware recommendations.\n",
    "\n"
   ]
  },
  {
   "cell_type": "markdown",
   "metadata": {},
   "source": [
    "#### 1.4. Business Challenge and Proposed Solution\n",
    "- Showmax is facing the following challenges\n",
    "   1. Handling a large and diverse user base across multiple regions and languages.\n",
    "   2. Balancing recommendations between local content, international content, and Showmax Originals.\n",
    "   3. Addressing cold-start problems for new users with little to no viewing history.\n",
    "   4. Ensuring scalability as the platform expands its content library and user base.\n",
    "\n",
    "- By developing this recommendation system, Showmax seeks to differentiate itself in the competitive streaming market by delivering a more personalized, engaging, and seamless content consumption experience for its diverse audience.\n",
    "- A recommender system built using the MovieLens dataset can analyze user rating data to identify patterns and preferences. This system will employ collaborative filtering, content-based filtering, or a hybrid approach to predict movies that users are likely to enjoy. By leveraging machine learning techniques, the model can learn from both explicit (e.g., ratings) and implicit (e.g., viewing history) feedback. Key benefits of this solution include:\n",
    "     - Personalized Movie Suggestions: Users receive a tailored list of movies that match their unique tastes.\n",
    "     - Improved Discoverability: Hidden gems and lesser-known titles are surfaced to users, enhancing content exploration.\n",
    "    - Real-Time Adaptation: The model continuously improves as more user interaction data becomes available, refining recommendations over time."
   ]
  },
  {
   "cell_type": "markdown",
   "metadata": {},
   "source": [
    "#### 1.5. Conclusion\n",
    "\n",
    "- A robust movie recommender system, informed by datasets like MovieLens, is crucial for streaming platforms like ShowMax Films to maintain a competitive edge. By enhancing personalization, increasing engagement, and improving user retention, Netflix can achieve sustainable growth in subscriptions and long-term customer loyalty. Through ongoing optimization, such systems will continue to play a pivotal role in shaping the future of digital entertainment.\n"
   ]
  },
  {
   "cell_type": "markdown",
   "metadata": {},
   "source": [
    "## 2.0 Data Understanding"
   ]
  },
  {
   "cell_type": "markdown",
   "metadata": {},
   "source": [
    "- The MovieLens dataset used in building this movie recommender system was sourced from GroupLens Research Lab at the University of Minnesota being data collected over various period of time. The MovieLens Zipped Dataset has Small: 100,000 ratings and 3,600 tag applications applied to 9,000 movies by 600 users. Last updated 9/2018. The MovieLens dataset has two csv files of interest i.e \"Movies.csv\" and \"ratings.csv\"- that were extracted for use in this project.\n",
    "\n",
    "- Movies Dataset (movies.csv): Contains metadata about movies with 9742 rows and 3 columns\n",
    "     - Numerical Column:\n",
    "         - movieId: A unique numerical identifier for each movie.\n",
    "     -  Categorical Columns:\n",
    "          - title: The name of the movie along with its release year.\n",
    "          - genres: A pipe-separated (|) list of genres associated with the movie.\n",
    "\n",
    "- Ratings Dataset (ratings.csv): Contains user interactions (ratings) with 100836 rows and 4 columns \n",
    "     - Numerical Columns:\n",
    "        - userId: A unique numerical identifier for each user.\n",
    "        - movieId: The unique identifier of the rated movie (linked to movies.csv).\n",
    "        - rating: The score given by the user to the movie (typically on a scale of 0.5 to 5.0).\n",
    "        - timestamp: A numerical representation of when the rating was given (UNIX timestamp format)."
   ]
  },
  {
   "cell_type": "markdown",
   "metadata": {},
   "source": [
    "## 3.0 Data Preparation"
   ]
  },
  {
   "cell_type": "markdown",
   "metadata": {},
   "source": [
    "##### In this section, we explore the data by understanding aspects of the data - including, loading the data, identifying the shape, features and data types, and understanding the summary statistics."
   ]
  },
  {
   "cell_type": "markdown",
   "metadata": {},
   "source": [
    "#### 3.1 Loading Libraries"
   ]
  },
  {
   "cell_type": "code",
   "execution_count": 160,
   "metadata": {},
   "outputs": [
    {
     "name": "stdout",
     "output_type": "stream",
     "text": [
      "Requirement already satisfied: scikit-learn in c:\\users\\elitebook\\anaconda3\\envs\\learn-env\\lib\\site-packages (0.23.2)Note: you may need to restart the kernel to use updated packages.\n",
      "Requirement already satisfied: xgboost in c:\\users\\elitebook\\anaconda3\\envs\\learn-env\\lib\\site-packages (1.2.1)\n",
      "Requirement already satisfied: lightgbm in c:\\users\\elitebook\\anaconda3\\envs\\learn-env\\lib\\site-packages (4.5.0)\n",
      "Requirement already satisfied: catboost in c:\\users\\elitebook\\anaconda3\\envs\\learn-env\\lib\\site-packages (1.2.7)\n",
      "Requirement already satisfied: joblib>=0.11 in c:\\users\\elitebook\\anaconda3\\envs\\learn-env\\lib\\site-packages (from scikit-learn) (0.17.0)\n",
      "Requirement already satisfied: threadpoolctl>=2.0.0 in c:\\users\\elitebook\\anaconda3\\envs\\learn-env\\lib\\site-packages (from scikit-learn) (2.1.0)\n",
      "Requirement already satisfied: scipy>=0.19.1 in c:\\users\\elitebook\\anaconda3\\envs\\learn-env\\lib\\site-packages (from scikit-learn) (1.5.0)\n",
      "Requirement already satisfied: numpy>=1.13.3 in c:\\users\\elitebook\\anaconda3\\envs\\learn-env\\lib\\site-packages (from scikit-learn) (1.18.5)\n",
      "Requirement already satisfied: matplotlib in c:\\users\\elitebook\\anaconda3\\envs\\learn-env\\lib\\site-packages (from catboost) (3.3.1)\n",
      "Requirement already satisfied: plotly in c:\\users\\elitebook\\anaconda3\\envs\\learn-env\\lib\\site-packages (from catboost) (4.11.0)\n",
      "Requirement already satisfied: pandas>=0.24 in c:\\users\\elitebook\\anaconda3\\envs\\learn-env\\lib\\site-packages (from catboost) (1.1.3)\n",
      "Requirement already satisfied: six in c:\\users\\elitebook\\anaconda3\\envs\\learn-env\\lib\\site-packages (from catboost) (1.15.0)\n",
      "Requirement already satisfied: graphviz in c:\\users\\elitebook\\anaconda3\\envs\\learn-env\\lib\\site-packages (from catboost) (0.20.3)\n",
      "Requirement already satisfied: certifi>=2020.06.20 in c:\\users\\elitebook\\anaconda3\\envs\\learn-env\\lib\\site-packages (from matplotlib->catboost) (2020.6.20)\n",
      "Requirement already satisfied: kiwisolver>=1.0.1 in c:\\users\\elitebook\\anaconda3\\envs\\learn-env\\lib\\site-packages (from matplotlib->catboost) (1.2.0)\n",
      "\n",
      "Requirement already satisfied: pyparsing!=2.0.4,!=2.1.2,!=2.1.6,>=2.0.3 in c:\\users\\elitebook\\anaconda3\\envs\\learn-env\\lib\\site-packages (from matplotlib->catboost) (2.4.7)\n",
      "Requirement already satisfied: cycler>=0.10 in c:\\users\\elitebook\\anaconda3\\envs\\learn-env\\lib\\site-packages (from matplotlib->catboost) (0.10.0)\n",
      "Requirement already satisfied: python-dateutil>=2.1 in c:\\users\\elitebook\\anaconda3\\envs\\learn-env\\lib\\site-packages (from matplotlib->catboost) (2.8.1)\n",
      "Requirement already satisfied: pillow>=6.2.0 in c:\\users\\elitebook\\anaconda3\\envs\\learn-env\\lib\\site-packages (from matplotlib->catboost) (8.0.0)\n",
      "Requirement already satisfied: retrying>=1.3.3 in c:\\users\\elitebook\\anaconda3\\envs\\learn-env\\lib\\site-packages (from plotly->catboost) (1.3.3)\n",
      "Requirement already satisfied: pytz>=2017.2 in c:\\users\\elitebook\\anaconda3\\envs\\learn-env\\lib\\site-packages (from pandas>=0.24->catboost) (2020.1)\n"
     ]
    }
   ],
   "source": [
    "pip install scikit-learn xgboost lightgbm catboost"
   ]
  },
  {
   "cell_type": "code",
   "execution_count": 161,
   "metadata": {},
   "outputs": [
    {
     "name": "stderr",
     "output_type": "stream",
     "text": [
      "[nltk_data] Downloading package stopwords to\n",
      "[nltk_data]     C:\\Users\\ELITEBOOK\\AppData\\Roaming\\nltk_data...\n",
      "[nltk_data]   Package stopwords is already up-to-date!\n",
      "[nltk_data] Downloading package punkt to\n",
      "[nltk_data]     C:\\Users\\ELITEBOOK\\AppData\\Roaming\\nltk_data...\n",
      "[nltk_data]   Package punkt is already up-to-date!\n",
      "[nltk_data] Downloading package stopwords to\n",
      "[nltk_data]     C:\\Users\\ELITEBOOK\\AppData\\Roaming\\nltk_data...\n",
      "[nltk_data]   Package stopwords is already up-to-date!\n"
     ]
    }
   ],
   "source": [
    "## Data Exploration Libraries\n",
    "import zipfile\n",
    "import os\n",
    "import pandas as pd\n",
    "import numpy as np\n",
    "import matplotlib.pyplot as plt\n",
    "import seaborn as sns\n",
    "import ast\n",
    "import nltk\n",
    "import xgboost as Xb\n",
    "import re\n",
    "import time\n",
    "\n",
    "sns.set_theme(style=\"whitegrid\")\n",
    "plt.rcParams['figure.figsize'] = (15, 10)\n",
    "\n",
    "\n",
    "# Preprocessing and Metric Evaluation\n",
    "from sklearn.preprocessing import LabelEncoder, OneHotEncoder, StandardScaler\n",
    "from sklearn.metrics import recall_score, accuracy_score\n",
    "from sklearn.model_selection import train_test_split, cross_val_score, GridSearchCV\n",
    "from imblearn.over_sampling import SMOTE\n",
    "from sklearn.pipeline import Pipeline\n",
    "from sklearn.impute import SimpleImputer\n",
    "from sklearn.preprocessing import StandardScaler\n",
    "from sklearn.neighbors import KNeighborsClassifier\n",
    "from sklearn.model_selection import GridSearchCV\n",
    "nltk.download('stopwords')\n",
    "from nltk.tokenize import RegexpTokenizer\n",
    "from nltk.corpus import stopwords\n",
    "from nltk.stem import PorterStemmer\n",
    "\n",
    "\n",
    "from tqdm import tqdm\n",
    "\n",
    "\n",
    "from sklearn.model_selection import train_test_split, GridSearchCV\n",
    "\n",
    "from sklearn.metrics import accuracy_score, confusion_matrix, ConfusionMatrixDisplay, silhouette_score\n",
    "\n",
    "\n",
    "nltk.download('punkt')\n",
    "from nltk.tokenize import word_tokenize\n",
    "nltk.download('stopwords')\n",
    "from nltk.corpus import stopwords\n",
    "from nltk.stem import SnowballStemmer\n",
    "\n",
    "\n",
    "from sklearn.cluster import KMeans\n",
    "\n",
    "from sklearn.model_selection import train_test_split\n",
    "\n",
    "from sklearn.feature_extraction.text import TfidfVectorizer\n",
    "from sklearn.naive_bayes import MultinomialNB\n",
    "from sklearn.metrics.pairwise import cosine_similarity\n",
    "from sklearn.preprocessing import MinMaxScaler\n",
    "from types import FunctionType\n",
    "from datetime import datetime\n",
    "\n",
    "from sklearn.metrics.pairwise import linear_kernel\n",
    "\n",
    "from sklearn.decomposition import PCA\n",
    "\n",
    "# Models\n",
    "from sklearn.linear_model import LogisticRegression\n",
    "from sklearn.dummy import DummyClassifier\n",
    "from sklearn.tree import DecisionTreeClassifier\n",
    "from sklearn.neighbors import KNeighborsClassifier\n",
    "from sklearn.ensemble import AdaBoostClassifier, GradientBoostingClassifier, RandomForestClassifier"
   ]
  },
  {
   "cell_type": "markdown",
   "metadata": {},
   "source": [
    "#### 3.2 Loading the dataset"
   ]
  },
  {
   "cell_type": "code",
   "execution_count": 162,
   "metadata": {},
   "outputs": [],
   "source": [
    "# Load and reading the data set\n",
    "\n",
    "movies = pd.read_csv('movies.csv')\n",
    "ratings = pd.read_csv('ratings.csv')\n"
   ]
  },
  {
   "cell_type": "code",
   "execution_count": 163,
   "metadata": {},
   "outputs": [
    {
     "data": {
      "text/html": [
       "<div>\n",
       "<style scoped>\n",
       "    .dataframe tbody tr th:only-of-type {\n",
       "        vertical-align: middle;\n",
       "    }\n",
       "\n",
       "    .dataframe tbody tr th {\n",
       "        vertical-align: top;\n",
       "    }\n",
       "\n",
       "    .dataframe thead th {\n",
       "        text-align: right;\n",
       "    }\n",
       "</style>\n",
       "<table border=\"1\" class=\"dataframe\">\n",
       "  <thead>\n",
       "    <tr style=\"text-align: right;\">\n",
       "      <th></th>\n",
       "      <th>movieId</th>\n",
       "      <th>title</th>\n",
       "      <th>genres</th>\n",
       "    </tr>\n",
       "  </thead>\n",
       "  <tbody>\n",
       "    <tr>\n",
       "      <th>0</th>\n",
       "      <td>1</td>\n",
       "      <td>Toy Story (1995)</td>\n",
       "      <td>Adventure|Animation|Children|Comedy|Fantasy</td>\n",
       "    </tr>\n",
       "    <tr>\n",
       "      <th>1</th>\n",
       "      <td>2</td>\n",
       "      <td>Jumanji (1995)</td>\n",
       "      <td>Adventure|Children|Fantasy</td>\n",
       "    </tr>\n",
       "    <tr>\n",
       "      <th>2</th>\n",
       "      <td>3</td>\n",
       "      <td>Grumpier Old Men (1995)</td>\n",
       "      <td>Comedy|Romance</td>\n",
       "    </tr>\n",
       "    <tr>\n",
       "      <th>3</th>\n",
       "      <td>4</td>\n",
       "      <td>Waiting to Exhale (1995)</td>\n",
       "      <td>Comedy|Drama|Romance</td>\n",
       "    </tr>\n",
       "    <tr>\n",
       "      <th>4</th>\n",
       "      <td>5</td>\n",
       "      <td>Father of the Bride Part II (1995)</td>\n",
       "      <td>Comedy</td>\n",
       "    </tr>\n",
       "  </tbody>\n",
       "</table>\n",
       "</div>"
      ],
      "text/plain": [
       "   movieId                               title  \\\n",
       "0        1                    Toy Story (1995)   \n",
       "1        2                      Jumanji (1995)   \n",
       "2        3             Grumpier Old Men (1995)   \n",
       "3        4            Waiting to Exhale (1995)   \n",
       "4        5  Father of the Bride Part II (1995)   \n",
       "\n",
       "                                        genres  \n",
       "0  Adventure|Animation|Children|Comedy|Fantasy  \n",
       "1                   Adventure|Children|Fantasy  \n",
       "2                               Comedy|Romance  \n",
       "3                         Comedy|Drama|Romance  \n",
       "4                                       Comedy  "
      ]
     },
     "execution_count": 163,
     "metadata": {},
     "output_type": "execute_result"
    }
   ],
   "source": [
    "# Checking the First 5 lines for each dataset\n",
    "\n",
    "movies.head()"
   ]
  },
  {
   "cell_type": "code",
   "execution_count": 164,
   "metadata": {},
   "outputs": [
    {
     "data": {
      "text/html": [
       "<div>\n",
       "<style scoped>\n",
       "    .dataframe tbody tr th:only-of-type {\n",
       "        vertical-align: middle;\n",
       "    }\n",
       "\n",
       "    .dataframe tbody tr th {\n",
       "        vertical-align: top;\n",
       "    }\n",
       "\n",
       "    .dataframe thead th {\n",
       "        text-align: right;\n",
       "    }\n",
       "</style>\n",
       "<table border=\"1\" class=\"dataframe\">\n",
       "  <thead>\n",
       "    <tr style=\"text-align: right;\">\n",
       "      <th></th>\n",
       "      <th>userId</th>\n",
       "      <th>movieId</th>\n",
       "      <th>rating</th>\n",
       "      <th>timestamp</th>\n",
       "    </tr>\n",
       "  </thead>\n",
       "  <tbody>\n",
       "    <tr>\n",
       "      <th>0</th>\n",
       "      <td>1</td>\n",
       "      <td>1</td>\n",
       "      <td>4.0</td>\n",
       "      <td>964982703</td>\n",
       "    </tr>\n",
       "    <tr>\n",
       "      <th>1</th>\n",
       "      <td>1</td>\n",
       "      <td>3</td>\n",
       "      <td>4.0</td>\n",
       "      <td>964981247</td>\n",
       "    </tr>\n",
       "    <tr>\n",
       "      <th>2</th>\n",
       "      <td>1</td>\n",
       "      <td>6</td>\n",
       "      <td>4.0</td>\n",
       "      <td>964982224</td>\n",
       "    </tr>\n",
       "    <tr>\n",
       "      <th>3</th>\n",
       "      <td>1</td>\n",
       "      <td>47</td>\n",
       "      <td>5.0</td>\n",
       "      <td>964983815</td>\n",
       "    </tr>\n",
       "    <tr>\n",
       "      <th>4</th>\n",
       "      <td>1</td>\n",
       "      <td>50</td>\n",
       "      <td>5.0</td>\n",
       "      <td>964982931</td>\n",
       "    </tr>\n",
       "  </tbody>\n",
       "</table>\n",
       "</div>"
      ],
      "text/plain": [
       "   userId  movieId  rating  timestamp\n",
       "0       1        1     4.0  964982703\n",
       "1       1        3     4.0  964981247\n",
       "2       1        6     4.0  964982224\n",
       "3       1       47     5.0  964983815\n",
       "4       1       50     5.0  964982931"
      ]
     },
     "execution_count": 164,
     "metadata": {},
     "output_type": "execute_result"
    }
   ],
   "source": [
    "ratings.head()\n"
   ]
  },
  {
   "cell_type": "code",
   "execution_count": 165,
   "metadata": {},
   "outputs": [
    {
     "name": "stdout",
     "output_type": "stream",
     "text": [
      "Movie Dataset Column names as a list: ['movieId', 'title', 'genres']\n",
      "rating dataset Column names as a list: ['userId', 'movieId', 'rating', 'timestamp']\n"
     ]
    }
   ],
   "source": [
    "# Explore the column names\n",
    "\n",
    "column_list = movies.columns.tolist()\n",
    "print(\"Movie Dataset Column names as a list:\", column_list)\n",
    "column_list = ratings.columns.tolist()\n",
    "print(\"rating dataset Column names as a list:\", column_list)"
   ]
  },
  {
   "cell_type": "code",
   "execution_count": 166,
   "metadata": {},
   "outputs": [
    {
     "data": {
      "text/plain": [
       "(9742, 3)"
      ]
     },
     "execution_count": 166,
     "metadata": {},
     "output_type": "execute_result"
    }
   ],
   "source": [
    "# Explore datatypes\n",
    "movies.shape"
   ]
  },
  {
   "cell_type": "code",
   "execution_count": 167,
   "metadata": {},
   "outputs": [
    {
     "name": "stdout",
     "output_type": "stream",
     "text": [
      "<class 'pandas.core.frame.DataFrame'>\n",
      "RangeIndex: 9742 entries, 0 to 9741\n",
      "Data columns (total 3 columns):\n",
      " #   Column   Non-Null Count  Dtype \n",
      "---  ------   --------------  ----- \n",
      " 0   movieId  9742 non-null   int64 \n",
      " 1   title    9742 non-null   object\n",
      " 2   genres   9742 non-null   object\n",
      "dtypes: int64(1), object(2)\n",
      "memory usage: 228.5+ KB\n"
     ]
    }
   ],
   "source": [
    "# Explore the data types and data features\n",
    "movies.info()\n"
   ]
  },
  {
   "cell_type": "code",
   "execution_count": 168,
   "metadata": {},
   "outputs": [
    {
     "name": "stdout",
     "output_type": "stream",
     "text": [
      "<class 'pandas.core.frame.DataFrame'>\n",
      "RangeIndex: 100836 entries, 0 to 100835\n",
      "Data columns (total 4 columns):\n",
      " #   Column     Non-Null Count   Dtype  \n",
      "---  ------     --------------   -----  \n",
      " 0   userId     100836 non-null  int64  \n",
      " 1   movieId    100836 non-null  int64  \n",
      " 2   rating     100836 non-null  float64\n",
      " 3   timestamp  100836 non-null  int64  \n",
      "dtypes: float64(1), int64(3)\n",
      "memory usage: 3.1 MB\n"
     ]
    }
   ],
   "source": [
    "ratings.info()"
   ]
  },
  {
   "cell_type": "markdown",
   "metadata": {},
   "source": [
    "## Comment:- \n",
    "- Except for ratings which is a float dtype all other features are either int or object dtypes"
   ]
  },
  {
   "cell_type": "markdown",
   "metadata": {},
   "source": [
    "## 4.0 Data Cleaning\n",
    "\n",
    "##### We explore if the data needs any cleaning according to the Data Preparation section we have explored above.\n"
   ]
  },
  {
   "cell_type": "markdown",
   "metadata": {},
   "source": [
    "## 4.1. Checking for the Missing Values"
   ]
  },
  {
   "cell_type": "code",
   "execution_count": 169,
   "metadata": {},
   "outputs": [
    {
     "name": "stdout",
     "output_type": "stream",
     "text": [
      "Empty rows in movies: 0\n",
      "Empty rows in ratings: 0\n"
     ]
    }
   ],
   "source": [
    "# Check for empty rows\n",
    "print(f\"Empty rows in movies: {movies.isnull().sum().sum()}\")\n",
    "print(f\"Empty rows in ratings: {ratings.isnull().sum().sum()}\")\n"
   ]
  },
  {
   "cell_type": "markdown",
   "metadata": {},
   "source": [
    "## 4.2. Checking for duplicated Values and dropping the duplicates\n"
   ]
  },
  {
   "cell_type": "code",
   "execution_count": 170,
   "metadata": {},
   "outputs": [
    {
     "name": "stdout",
     "output_type": "stream",
     "text": [
      "Duplicates in ratings: 91112\n",
      "Duplicates in movies: 0\n"
     ]
    }
   ],
   "source": [
    "# Check for duplicates\n",
    "print(f\"Duplicates in ratings: {ratings.duplicated(subset='movieId').sum()}\")\n",
    "print(f\"Duplicates in movies: {movies.duplicated(subset='movieId').sum()}\")"
   ]
  },
  {
   "cell_type": "code",
   "execution_count": 171,
   "metadata": {},
   "outputs": [],
   "source": [
    "# Drop the duplicates items in the ratings dataset\n",
    "ratings_cleaned = ratings.drop_duplicates(subset=['movieId'])\n"
   ]
  },
  {
   "cell_type": "code",
   "execution_count": 172,
   "metadata": {},
   "outputs": [
    {
     "data": {
      "text/plain": [
       "(9724, 4)"
      ]
     },
     "execution_count": 172,
     "metadata": {},
     "output_type": "execute_result"
    }
   ],
   "source": [
    "# Checking the shape of the dataset (Number of rows and columns)\n",
    "ratings_cleaned.shape"
   ]
  },
  {
   "cell_type": "code",
   "execution_count": 173,
   "metadata": {},
   "outputs": [],
   "source": [
    "# Saving the cleaned ratings dataframe to a new CSV file\n",
    "\n",
    "cleaned_file_path = \"ratings_cleaned.csv\"\n",
    "ratings_cleaned.to_csv(cleaned_file_path, index=False)\n"
   ]
  },
  {
   "cell_type": "code",
   "execution_count": 174,
   "metadata": {},
   "outputs": [
    {
     "name": "stdout",
     "output_type": "stream",
     "text": [
      "Index(['userId', 'movieId', 'rating', 'timestamp'], dtype='object')\n",
      "Index(['movieId', 'title', 'genres'], dtype='object')\n"
     ]
    }
   ],
   "source": [
    "print(ratings_cleaned.columns)\n",
    "print(movies.columns)\n"
   ]
  },
  {
   "cell_type": "markdown",
   "metadata": {},
   "source": [
    "### Comment:\n",
    "- There are no missing values in both \"Movie.csv\" and \"ratings.csv\"\n",
    "- 91112 duplicate values were identified and further drop\n",
    "- The duplicate values were dropped improve model performance since presence of duplicate values reduces model accuracy by making predictions on unseen data in overfitting in machine learning"
   ]
  },
  {
   "cell_type": "markdown",
   "metadata": {},
   "source": [
    "## 4.3  Merge Datasets\n",
    "\n",
    "We merge the `ratings_cleaned` with `movies` to include movie titles in the ratings dataset."
   ]
  },
  {
   "cell_type": "code",
   "execution_count": 175,
   "metadata": {},
   "outputs": [],
   "source": [
    "# We merge the `movies` with `ratings` to include movie titles in the ratings dataset:-\n",
    "merged_df = pd.merge(ratings_cleaned, movies, on='movieId')"
   ]
  },
  {
   "cell_type": "code",
   "execution_count": 176,
   "metadata": {},
   "outputs": [
    {
     "data": {
      "text/plain": [
       "(9724, 6)"
      ]
     },
     "execution_count": 176,
     "metadata": {},
     "output_type": "execute_result"
    }
   ],
   "source": [
    "merged_df.shape"
   ]
  },
  {
   "cell_type": "code",
   "execution_count": 177,
   "metadata": {},
   "outputs": [
    {
     "data": {
      "text/html": [
       "<div>\n",
       "<style scoped>\n",
       "    .dataframe tbody tr th:only-of-type {\n",
       "        vertical-align: middle;\n",
       "    }\n",
       "\n",
       "    .dataframe tbody tr th {\n",
       "        vertical-align: top;\n",
       "    }\n",
       "\n",
       "    .dataframe thead th {\n",
       "        text-align: right;\n",
       "    }\n",
       "</style>\n",
       "<table border=\"1\" class=\"dataframe\">\n",
       "  <thead>\n",
       "    <tr style=\"text-align: right;\">\n",
       "      <th></th>\n",
       "      <th>userId</th>\n",
       "      <th>movieId</th>\n",
       "      <th>rating</th>\n",
       "      <th>timestamp</th>\n",
       "      <th>title</th>\n",
       "      <th>genres</th>\n",
       "    </tr>\n",
       "  </thead>\n",
       "  <tbody>\n",
       "    <tr>\n",
       "      <th>0</th>\n",
       "      <td>1</td>\n",
       "      <td>1</td>\n",
       "      <td>4.0</td>\n",
       "      <td>964982703</td>\n",
       "      <td>Toy Story (1995)</td>\n",
       "      <td>Adventure|Animation|Children|Comedy|Fantasy</td>\n",
       "    </tr>\n",
       "    <tr>\n",
       "      <th>1</th>\n",
       "      <td>1</td>\n",
       "      <td>3</td>\n",
       "      <td>4.0</td>\n",
       "      <td>964981247</td>\n",
       "      <td>Grumpier Old Men (1995)</td>\n",
       "      <td>Comedy|Romance</td>\n",
       "    </tr>\n",
       "    <tr>\n",
       "      <th>2</th>\n",
       "      <td>1</td>\n",
       "      <td>6</td>\n",
       "      <td>4.0</td>\n",
       "      <td>964982224</td>\n",
       "      <td>Heat (1995)</td>\n",
       "      <td>Action|Crime|Thriller</td>\n",
       "    </tr>\n",
       "    <tr>\n",
       "      <th>3</th>\n",
       "      <td>1</td>\n",
       "      <td>47</td>\n",
       "      <td>5.0</td>\n",
       "      <td>964983815</td>\n",
       "      <td>Seven (a.k.a. Se7en) (1995)</td>\n",
       "      <td>Mystery|Thriller</td>\n",
       "    </tr>\n",
       "    <tr>\n",
       "      <th>4</th>\n",
       "      <td>1</td>\n",
       "      <td>50</td>\n",
       "      <td>5.0</td>\n",
       "      <td>964982931</td>\n",
       "      <td>Usual Suspects, The (1995)</td>\n",
       "      <td>Crime|Mystery|Thriller</td>\n",
       "    </tr>\n",
       "  </tbody>\n",
       "</table>\n",
       "</div>"
      ],
      "text/plain": [
       "   userId  movieId  rating  timestamp                        title  \\\n",
       "0       1        1     4.0  964982703             Toy Story (1995)   \n",
       "1       1        3     4.0  964981247      Grumpier Old Men (1995)   \n",
       "2       1        6     4.0  964982224                  Heat (1995)   \n",
       "3       1       47     5.0  964983815  Seven (a.k.a. Se7en) (1995)   \n",
       "4       1       50     5.0  964982931   Usual Suspects, The (1995)   \n",
       "\n",
       "                                        genres  \n",
       "0  Adventure|Animation|Children|Comedy|Fantasy  \n",
       "1                               Comedy|Romance  \n",
       "2                        Action|Crime|Thriller  \n",
       "3                             Mystery|Thriller  \n",
       "4                       Crime|Mystery|Thriller  "
      ]
     },
     "execution_count": 177,
     "metadata": {},
     "output_type": "execute_result"
    }
   ],
   "source": [
    "merged_df.head()"
   ]
  },
  {
   "cell_type": "code",
   "execution_count": 178,
   "metadata": {},
   "outputs": [],
   "source": [
    "# Dropping the 'timestamp' column\n",
    "merged_df = merged_df.drop(columns=['timestamp'])"
   ]
  },
  {
   "cell_type": "code",
   "execution_count": 179,
   "metadata": {},
   "outputs": [
    {
     "data": {
      "text/plain": [
       "(9724, 5)"
      ]
     },
     "execution_count": 179,
     "metadata": {},
     "output_type": "execute_result"
    }
   ],
   "source": [
    "merged_df.shape"
   ]
  },
  {
   "cell_type": "code",
   "execution_count": 180,
   "metadata": {},
   "outputs": [
    {
     "data": {
      "text/html": [
       "<div>\n",
       "<style scoped>\n",
       "    .dataframe tbody tr th:only-of-type {\n",
       "        vertical-align: middle;\n",
       "    }\n",
       "\n",
       "    .dataframe tbody tr th {\n",
       "        vertical-align: top;\n",
       "    }\n",
       "\n",
       "    .dataframe thead th {\n",
       "        text-align: right;\n",
       "    }\n",
       "</style>\n",
       "<table border=\"1\" class=\"dataframe\">\n",
       "  <thead>\n",
       "    <tr style=\"text-align: right;\">\n",
       "      <th></th>\n",
       "      <th>userId</th>\n",
       "      <th>movieId</th>\n",
       "      <th>rating</th>\n",
       "      <th>title</th>\n",
       "      <th>genres</th>\n",
       "    </tr>\n",
       "  </thead>\n",
       "  <tbody>\n",
       "    <tr>\n",
       "      <th>0</th>\n",
       "      <td>1</td>\n",
       "      <td>1</td>\n",
       "      <td>4.0</td>\n",
       "      <td>Toy Story (1995)</td>\n",
       "      <td>Adventure|Animation|Children|Comedy|Fantasy</td>\n",
       "    </tr>\n",
       "    <tr>\n",
       "      <th>1</th>\n",
       "      <td>1</td>\n",
       "      <td>3</td>\n",
       "      <td>4.0</td>\n",
       "      <td>Grumpier Old Men (1995)</td>\n",
       "      <td>Comedy|Romance</td>\n",
       "    </tr>\n",
       "    <tr>\n",
       "      <th>2</th>\n",
       "      <td>1</td>\n",
       "      <td>6</td>\n",
       "      <td>4.0</td>\n",
       "      <td>Heat (1995)</td>\n",
       "      <td>Action|Crime|Thriller</td>\n",
       "    </tr>\n",
       "    <tr>\n",
       "      <th>3</th>\n",
       "      <td>1</td>\n",
       "      <td>47</td>\n",
       "      <td>5.0</td>\n",
       "      <td>Seven (a.k.a. Se7en) (1995)</td>\n",
       "      <td>Mystery|Thriller</td>\n",
       "    </tr>\n",
       "    <tr>\n",
       "      <th>4</th>\n",
       "      <td>1</td>\n",
       "      <td>50</td>\n",
       "      <td>5.0</td>\n",
       "      <td>Usual Suspects, The (1995)</td>\n",
       "      <td>Crime|Mystery|Thriller</td>\n",
       "    </tr>\n",
       "  </tbody>\n",
       "</table>\n",
       "</div>"
      ],
      "text/plain": [
       "   userId  movieId  rating                        title  \\\n",
       "0       1        1     4.0             Toy Story (1995)   \n",
       "1       1        3     4.0      Grumpier Old Men (1995)   \n",
       "2       1        6     4.0                  Heat (1995)   \n",
       "3       1       47     5.0  Seven (a.k.a. Se7en) (1995)   \n",
       "4       1       50     5.0   Usual Suspects, The (1995)   \n",
       "\n",
       "                                        genres  \n",
       "0  Adventure|Animation|Children|Comedy|Fantasy  \n",
       "1                               Comedy|Romance  \n",
       "2                        Action|Crime|Thriller  \n",
       "3                             Mystery|Thriller  \n",
       "4                       Crime|Mystery|Thriller  "
      ]
     },
     "execution_count": 180,
     "metadata": {},
     "output_type": "execute_result"
    }
   ],
   "source": [
    "merged_df.head()"
   ]
  },
  {
   "cell_type": "code",
   "execution_count": null,
   "metadata": {},
   "outputs": [
    {
     "data": {
      "text/html": [
       "<div>\n",
       "<style scoped>\n",
       "    .dataframe tbody tr th:only-of-type {\n",
       "        vertical-align: middle;\n",
       "    }\n",
       "\n",
       "    .dataframe tbody tr th {\n",
       "        vertical-align: top;\n",
       "    }\n",
       "\n",
       "    .dataframe thead th {\n",
       "        text-align: right;\n",
       "    }\n",
       "</style>\n",
       "<table border=\"1\" class=\"dataframe\">\n",
       "  <thead>\n",
       "    <tr style=\"text-align: right;\">\n",
       "      <th></th>\n",
       "      <th>userId</th>\n",
       "      <th>movieId</th>\n",
       "      <th>rating</th>\n",
       "    </tr>\n",
       "  </thead>\n",
       "  <tbody>\n",
       "    <tr>\n",
       "      <th>count</th>\n",
       "      <td>9724.000000</td>\n",
       "      <td>9724.000000</td>\n",
       "      <td>9724.000000</td>\n",
       "    </tr>\n",
       "    <tr>\n",
       "      <th>mean</th>\n",
       "      <td>214.491670</td>\n",
       "      <td>42245.024373</td>\n",
       "      <td>3.298026</td>\n",
       "    </tr>\n",
       "    <tr>\n",
       "      <th>std</th>\n",
       "      <td>199.585586</td>\n",
       "      <td>52191.137320</td>\n",
       "      <td>1.103966</td>\n",
       "    </tr>\n",
       "    <tr>\n",
       "      <th>min</th>\n",
       "      <td>1.000000</td>\n",
       "      <td>1.000000</td>\n",
       "      <td>0.500000</td>\n",
       "    </tr>\n",
       "    <tr>\n",
       "      <th>25%</th>\n",
       "      <td>33.000000</td>\n",
       "      <td>3245.500000</td>\n",
       "      <td>2.500000</td>\n",
       "    </tr>\n",
       "    <tr>\n",
       "      <th>50%</th>\n",
       "      <td>135.000000</td>\n",
       "      <td>7300.000000</td>\n",
       "      <td>3.500000</td>\n",
       "    </tr>\n",
       "    <tr>\n",
       "      <th>75%</th>\n",
       "      <td>387.000000</td>\n",
       "      <td>76739.250000</td>\n",
       "      <td>4.000000</td>\n",
       "    </tr>\n",
       "    <tr>\n",
       "      <th>max</th>\n",
       "      <td>610.000000</td>\n",
       "      <td>193609.000000</td>\n",
       "      <td>5.000000</td>\n",
       "    </tr>\n",
       "  </tbody>\n",
       "</table>\n",
       "</div>"
      ],
      "text/plain": [
       "            userId        movieId       rating\n",
       "count  9724.000000    9724.000000  9724.000000\n",
       "mean    214.491670   42245.024373     3.298026\n",
       "std     199.585586   52191.137320     1.103966\n",
       "min       1.000000       1.000000     0.500000\n",
       "25%      33.000000    3245.500000     2.500000\n",
       "50%     135.000000    7300.000000     3.500000\n",
       "75%     387.000000   76739.250000     4.000000\n",
       "max     610.000000  193609.000000     5.000000"
      ]
     },
     "execution_count": 181,
     "metadata": {},
     "output_type": "execute_result"
    }
   ],
   "source": [
    "# Explore the statistical summary of the data for movies, and ratings data set\n",
    "merged_df.describe()"
   ]
  },
  {
   "cell_type": "code",
   "execution_count": 182,
   "metadata": {},
   "outputs": [
    {
     "data": {
      "text/plain": [
       "userId     0\n",
       "movieId    0\n",
       "rating     0\n",
       "title      0\n",
       "genres     0\n",
       "dtype: int64"
      ]
     },
     "execution_count": 182,
     "metadata": {},
     "output_type": "execute_result"
    }
   ],
   "source": [
    "merged_df.isnull().sum() # Checking missing values in merged_df dataset\n"
   ]
  },
  {
   "cell_type": "code",
   "execution_count": 183,
   "metadata": {},
   "outputs": [
    {
     "data": {
      "text/plain": [
       "0"
      ]
     },
     "execution_count": 183,
     "metadata": {},
     "output_type": "execute_result"
    }
   ],
   "source": [
    "merged_df.duplicated().sum() # Checking for the duplicates in merged_df dataset"
   ]
  },
  {
   "cell_type": "code",
   "execution_count": 184,
   "metadata": {},
   "outputs": [],
   "source": [
    "# Saving the cleaned merged dataframe to a new CSV file\n",
    "\n",
    "cleaned_file_path = \"merged_df.csv\"\n",
    "merged_df.to_csv(cleaned_file_path, index=False)"
   ]
  },
  {
   "cell_type": "markdown",
   "metadata": {},
   "source": [
    "### Comments:\n",
    "- To build an effective recommendation system, we need to combine both user interactions (ratings) and movie details (titles, genres). \n",
    "- Reasons:\n",
    "     - A. Link Ratings to Movie Titles & Genres:\n",
    "         - ratings.csv only contains movieId, so merging it with movies.csv will help me map movieId to actual movie names and genres.This allows me to present recommendations in a readable format rather than just movieIds.\n",
    "\n",
    "     - Enable Content-Based Filtering:\n",
    "         - By merging genres from movies.csv, we can recommend movies with similar genres to what a user has liked.\n",
    "         - Example: If a user likes \"Toy Story (1995)\" (Animation, Adventure), we can suggest similar movies.\n",
    "\n",
    "    -  Support Collaborative Filtering\n",
    "         - Collaborative filtering recommends movies based on other users' ratings.\n",
    "         - The merged dataset allows the grouping of ratings by user and movie titles.\n"
   ]
  },
  {
   "cell_type": "markdown",
   "metadata": {},
   "source": [
    "### 4.4 Droping the column not needed \"Timestamp\""
   ]
  },
  {
   "cell_type": "code",
   "execution_count": 185,
   "metadata": {},
   "outputs": [
    {
     "data": {
      "text/html": [
       "<div>\n",
       "<style scoped>\n",
       "    .dataframe tbody tr th:only-of-type {\n",
       "        vertical-align: middle;\n",
       "    }\n",
       "\n",
       "    .dataframe tbody tr th {\n",
       "        vertical-align: top;\n",
       "    }\n",
       "\n",
       "    .dataframe thead th {\n",
       "        text-align: right;\n",
       "    }\n",
       "</style>\n",
       "<table border=\"1\" class=\"dataframe\">\n",
       "  <thead>\n",
       "    <tr style=\"text-align: right;\">\n",
       "      <th></th>\n",
       "      <th>userId</th>\n",
       "      <th>movieId</th>\n",
       "      <th>rating</th>\n",
       "      <th>title</th>\n",
       "      <th>genres</th>\n",
       "    </tr>\n",
       "  </thead>\n",
       "  <tbody>\n",
       "    <tr>\n",
       "      <th>0</th>\n",
       "      <td>1</td>\n",
       "      <td>1</td>\n",
       "      <td>4.0</td>\n",
       "      <td>Toy Story (1995)</td>\n",
       "      <td>Adventure|Animation|Children|Comedy|Fantasy</td>\n",
       "    </tr>\n",
       "    <tr>\n",
       "      <th>1</th>\n",
       "      <td>1</td>\n",
       "      <td>3</td>\n",
       "      <td>4.0</td>\n",
       "      <td>Grumpier Old Men (1995)</td>\n",
       "      <td>Comedy|Romance</td>\n",
       "    </tr>\n",
       "    <tr>\n",
       "      <th>2</th>\n",
       "      <td>1</td>\n",
       "      <td>6</td>\n",
       "      <td>4.0</td>\n",
       "      <td>Heat (1995)</td>\n",
       "      <td>Action|Crime|Thriller</td>\n",
       "    </tr>\n",
       "    <tr>\n",
       "      <th>3</th>\n",
       "      <td>1</td>\n",
       "      <td>47</td>\n",
       "      <td>5.0</td>\n",
       "      <td>Seven (a.k.a. Se7en) (1995)</td>\n",
       "      <td>Mystery|Thriller</td>\n",
       "    </tr>\n",
       "    <tr>\n",
       "      <th>4</th>\n",
       "      <td>1</td>\n",
       "      <td>50</td>\n",
       "      <td>5.0</td>\n",
       "      <td>Usual Suspects, The (1995)</td>\n",
       "      <td>Crime|Mystery|Thriller</td>\n",
       "    </tr>\n",
       "  </tbody>\n",
       "</table>\n",
       "</div>"
      ],
      "text/plain": [
       "   userId  movieId  rating                        title  \\\n",
       "0       1        1     4.0             Toy Story (1995)   \n",
       "1       1        3     4.0      Grumpier Old Men (1995)   \n",
       "2       1        6     4.0                  Heat (1995)   \n",
       "3       1       47     5.0  Seven (a.k.a. Se7en) (1995)   \n",
       "4       1       50     5.0   Usual Suspects, The (1995)   \n",
       "\n",
       "                                        genres  \n",
       "0  Adventure|Animation|Children|Comedy|Fantasy  \n",
       "1                               Comedy|Romance  \n",
       "2                        Action|Crime|Thriller  \n",
       "3                             Mystery|Thriller  \n",
       "4                       Crime|Mystery|Thriller  "
      ]
     },
     "execution_count": 185,
     "metadata": {},
     "output_type": "execute_result"
    }
   ],
   "source": [
    "# Load and read the merged_df \n",
    "merged_df = pd.read_csv('merged_df.csv')\n",
    "merged_df.head()"
   ]
  },
  {
   "cell_type": "markdown",
   "metadata": {},
   "source": [
    "# 5.0 Data Exploration\n"
   ]
  },
  {
   "cell_type": "markdown",
   "metadata": {},
   "source": [
    "## 5.1 Preprocessing\n",
    "\n",
    "- Here I will load the dataset, check the datatypes, checking for missing values, perform Encoding and feature scaling"
   ]
  },
  {
   "cell_type": "code",
   "execution_count": 186,
   "metadata": {},
   "outputs": [],
   "source": [
    "# Load the data set\n",
    "merged_data = pd.read_csv(\"merged_df.csv\")"
   ]
  },
  {
   "cell_type": "code",
   "execution_count": 187,
   "metadata": {},
   "outputs": [
    {
     "name": "stdout",
     "output_type": "stream",
     "text": [
      "<class 'pandas.core.frame.DataFrame'>\n",
      "RangeIndex: 9724 entries, 0 to 9723\n",
      "Data columns (total 5 columns):\n",
      " #   Column   Non-Null Count  Dtype  \n",
      "---  ------   --------------  -----  \n",
      " 0   userId   9724 non-null   int64  \n",
      " 1   movieId  9724 non-null   int64  \n",
      " 2   rating   9724 non-null   float64\n",
      " 3   title    9724 non-null   object \n",
      " 4   genres   9724 non-null   object \n",
      "dtypes: float64(1), int64(2), object(2)\n",
      "memory usage: 380.0+ KB\n",
      "None\n",
      "   userId  movieId  rating                        title  \\\n",
      "0       1        1     4.0             Toy Story (1995)   \n",
      "1       1        3     4.0      Grumpier Old Men (1995)   \n",
      "2       1        6     4.0                  Heat (1995)   \n",
      "3       1       47     5.0  Seven (a.k.a. Se7en) (1995)   \n",
      "4       1       50     5.0   Usual Suspects, The (1995)   \n",
      "\n",
      "                                        genres  \n",
      "0  Adventure|Animation|Children|Comedy|Fantasy  \n",
      "1                               Comedy|Romance  \n",
      "2                        Action|Crime|Thriller  \n",
      "3                             Mystery|Thriller  \n",
      "4                       Crime|Mystery|Thriller  \n"
     ]
    }
   ],
   "source": [
    "# Checking the data structure and first few rows of the data\n",
    "print(merged_data.info())\n",
    "print(merged_data.head())\n"
   ]
  },
  {
   "cell_type": "code",
   "execution_count": 188,
   "metadata": {},
   "outputs": [
    {
     "name": "stdout",
     "output_type": "stream",
     "text": [
      "userId     0\n",
      "movieId    0\n",
      "rating     0\n",
      "title      0\n",
      "genres     0\n",
      "dtype: int64\n"
     ]
    }
   ],
   "source": [
    "# Checking for missing values\n",
    "print(merged_data.isnull().sum())\n"
   ]
  },
  {
   "cell_type": "code",
   "execution_count": 189,
   "metadata": {},
   "outputs": [
    {
     "name": "stdout",
     "output_type": "stream",
     "text": [
      "Numeric Columns: ['userId', 'movieId', 'rating']\n",
      "Categorical Columns: ['title', 'genres']\n"
     ]
    }
   ],
   "source": [
    "# Indentify numeric and categorical columns\n",
    "# Numeric columns\n",
    "numeric_columns = merged_data.select_dtypes(include=['number']).columns.tolist()\n",
    "\n",
    "# Categorical columns\n",
    "categorical_columns = merged_data.select_dtypes(include=['object', 'category']).columns.tolist()\n",
    "\n",
    "print(\"Numeric Columns:\", numeric_columns)\n",
    "print(\"Categorical Columns:\", categorical_columns)\n"
   ]
  },
  {
   "cell_type": "code",
   "execution_count": 190,
   "metadata": {},
   "outputs": [],
   "source": [
    "#Defining the categorical and numeric columns\n",
    "numeric_cols = merged_data.select_dtypes(include=['float64', 'int64']).columns\n",
    "\n",
    "categorical_cols = merged_data.select_dtypes(include=['object', 'category']).columns.tolist()\n"
   ]
  },
  {
   "cell_type": "code",
   "execution_count": 191,
   "metadata": {},
   "outputs": [],
   "source": [
    "# Perform data Label Encoding \n",
    "label_encoder = LabelEncoder()\n",
    "for col in categorical_cols:\n",
    "    merged_data[col] = label_encoder.fit_transform(merged_data[col])\n"
   ]
  },
  {
   "cell_type": "code",
   "execution_count": 192,
   "metadata": {},
   "outputs": [],
   "source": [
    "# Initialize the scaler and fit on numeric columns\n",
    "scaler = StandardScaler()\n",
    "merged_data[numeric_cols] = scaler.fit_transform(merged_data[numeric_cols])\n"
   ]
  },
  {
   "cell_type": "code",
   "execution_count": 193,
   "metadata": {},
   "outputs": [
    {
     "data": {
      "image/png": "[encoded data removed]",
      "text/plain": [
       "<Figure size 720x432 with 1 Axes>"
      ]
     },
     "metadata": {},
     "output_type": "display_data"
    }
   ],
   "source": [
    "# Checking for outliers for numeric features using boxplots Visualize\n",
    "plt.figure(figsize=(10, 6))\n",
    "sns.boxplot(data=merged_data.select_dtypes(include=['float64', 'int64']))\n",
    "plt.title('Boxplot for Outlier Detection')\n",
    "plt.show()\n"
   ]
  },
  {
   "cell_type": "markdown",
   "metadata": {},
   "source": [
    "## Explaination of the Boxplot Visualization\n",
    "  - There are few outliers in the rating columns (indacting potential of very few anomalies) compared to the general distribution of ratings.\n",
    "  - While User userId and movieId shows possibility of many outliers in the upper whisker of the box plot\n"
   ]
  },
  {
   "cell_type": "markdown",
   "metadata": {},
   "source": [
    "## 5.2 Building a Preprocessing Pipeline\n",
    "\n"
   ]
  },
  {
   "cell_type": "code",
   "execution_count": 194,
   "metadata": {},
   "outputs": [],
   "source": [
    "from sklearn.compose import ColumnTransformer"
   ]
  },
  {
   "cell_type": "code",
   "execution_count": 195,
   "metadata": {},
   "outputs": [],
   "source": [
    "# Loading the dataset\n",
    "merged_data = pd.read_csv(\"merged_df.csv\")\n"
   ]
  },
  {
   "cell_type": "code",
   "execution_count": null,
   "metadata": {},
   "outputs": [],
   "source": [
    "# Define features (X) and target (y)\n",
    "X = merged_data.drop(['rating'], axis=1)\n",
    "y = merged_data['rating']\n"
   ]
  },
  {
   "cell_type": "code",
   "execution_count": 197,
   "metadata": {},
   "outputs": [],
   "source": [
    "# Identify numeric and categorical columns\n",
    "numeric_features = X.select_dtypes(include=['int64', 'float64']).columns\n",
    "categorical_features = X.select_dtypes(include=['object']).columns\n"
   ]
  },
  {
   "cell_type": "code",
   "execution_count": 198,
   "metadata": {},
   "outputs": [],
   "source": [
    "# Preprocessing for numeric data: Handle missing values and scale\n",
    "numeric_transformer = Pipeline(steps=[\n",
    "    ('imputer', SimpleImputer(strategy='mean')),  # Fill missing values with mean\n",
    "    ('scaler', StandardScaler())                 # Scale features to zero mean and unit variance\n",
    "])\n"
   ]
  },
  {
   "cell_type": "code",
   "execution_count": 199,
   "metadata": {},
   "outputs": [],
   "source": [
    "# Preprocessing for categorical data: Handle missing values and encode\n",
    "categorical_transformer = Pipeline(steps=[\n",
    "    ('imputer', SimpleImputer(strategy='most_frequent')),  # Fill missing values with mode\n",
    "    ('encoder', OneHotEncoder(handle_unknown='ignore'))    # One-hot encoding\n",
    "])"
   ]
  },
  {
   "cell_type": "code",
   "execution_count": 200,
   "metadata": {},
   "outputs": [],
   "source": [
    "# Combine preprocessors using ColumnTransformer\n",
    "preprocessor = ColumnTransformer(\n",
    "    transformers=[\n",
    "        ('num', numeric_transformer, numeric_features),\n",
    "        ('cat', categorical_transformer, categorical_features)\n",
    "    ]\n",
    ")"
   ]
  },
  {
   "cell_type": "code",
   "execution_count": 201,
   "metadata": {},
   "outputs": [],
   "source": [
    "# Generating a Full Pipeline\n",
    "\n",
    "from sklearn.ensemble import GradientBoostingRegressor\n",
    "from sklearn.pipeline import Pipeline\n",
    "\n",
    "# Full pipeline including preprocessing and model\n",
    "pipeline = Pipeline(steps=[\n",
    "    ('preprocessor', preprocessor),\n",
    "    ('regressor', GradientBoostingRegressor(n_estimators=100, learning_rate=0.1, max_depth=3, random_state=42))\n",
    "])\n",
    "\n",
    "# Split the data into training and testing sets\n",
    "X_train, X_test, y_train, y_test = train_test_split(X, y, test_size=0.2, random_state=42)\n",
    "\n",
    "# Train the model\n",
    "pipeline.fit(X_train, y_train)\n",
    "\n",
    "# Make predictions\n",
    "y_pred = pipeline.predict(X_test)\n"
   ]
  },
  {
   "cell_type": "code",
   "execution_count": 202,
   "metadata": {},
   "outputs": [
    {
     "name": "stdout",
     "output_type": "stream",
     "text": [
      "Model Performance:\n",
      "Mean Squared Error: 0.93\n",
      "Mean Absolute Error: 0.76\n",
      "R² Score: 0.17\n"
     ]
    }
   ],
   "source": [
    "from sklearn.metrics import mean_squared_error, mean_absolute_error, r2_score\n",
    "\n",
    "# Evaluate model performance\n",
    "mse = mean_squared_error(y_test, y_pred)\n",
    "mae = mean_absolute_error(y_test, y_pred)\n",
    "r2 = r2_score(y_test, y_pred)\n",
    "\n",
    "print(\"Model Performance:\")\n",
    "print(f\"Mean Squared Error: {mse:.2f}\")\n",
    "print(f\"Mean Absolute Error: {mae:.2f}\")\n",
    "print(f\"R² Score: {r2:.2f}\")\n"
   ]
  },
  {
   "cell_type": "markdown",
   "metadata": {},
   "source": [
    "\n",
    "# Explaination of Model Evaluation Results\n",
    "- Mean Squared Error\t0.93\tOn average, the squared prediction error is 0.93 units. Since this metric squares the errors, it may indicate that there are some errors larger than expected, though not extremely large.\n",
    "- Mean Absolute Error\t0.76\tThe model’s predictions, on average, are off by 0.76 units from the actual values. This shows a reasonably small but non-negligible prediction error.\n",
    "- R² Score\t0.17\tThe model explains only 17% of the variance in the target variable, indicating significant room for improvement in capturing patterns in the data."
   ]
  },
  {
   "cell_type": "markdown",
   "metadata": {},
   "source": [
    "## 5.3 Model Tuning Using XGBoost"
   ]
  },
  {
   "cell_type": "code",
   "execution_count": 203,
   "metadata": {},
   "outputs": [
    {
     "name": "stdout",
     "output_type": "stream",
     "text": [
      "Fitting 3 folds for each of 108 candidates, totalling 324 fits\n"
     ]
    },
    {
     "name": "stderr",
     "output_type": "stream",
     "text": [
      "[Parallel(n_jobs=-1)]: Using backend LokyBackend with 4 concurrent workers.\n",
      "[Parallel(n_jobs=-1)]: Done  42 tasks      | elapsed:   30.2s\n",
      "[Parallel(n_jobs=-1)]: Done 192 tasks      | elapsed:   58.3s\n",
      "[Parallel(n_jobs=-1)]: Done 324 out of 324 | elapsed:  1.4min finished\n"
     ]
    },
    {
     "name": "stdout",
     "output_type": "stream",
     "text": [
      "Best Parameters: {'colsample_bytree': 0.8, 'learning_rate': 0.1, 'max_depth': 7, 'n_estimators': 100, 'subsample': 0.8}\n",
      "Model Performance:\n",
      "Mean Squared Error (MSE): 0.83\n",
      "Mean Absolute Error (MAE): 0.70\n",
      "R² Score: 0.26\n"
     ]
    }
   ],
   "source": [
    "from sklearn.model_selection import train_test_split, GridSearchCV\n",
    "from xgboost import XGBRegressor\n",
    "from sklearn.metrics import mean_squared_error, mean_absolute_error, r2_score\n",
    "# Load your dataset\n",
    "merged_data = pd.read_csv('merged_df.csv')\n",
    "\n",
    "# Define features and target\n",
    "X = merged_data.drop(['rating'], axis=1).select_dtypes(include=['float64', 'int64'])  # Use numeric features only\n",
    "y = merged_data['rating']\n",
    "\n",
    "# Train-test split\n",
    "X_train, X_test, y_train, y_test = train_test_split(X, y, test_size=0.2, random_state=42)\n",
    "\n",
    "xgb = XGBRegressor(objective='reg:squarederror', random_state=42)\n",
    "\n",
    "# Initialize the model\n",
    "xgb = XGBRegressor()\n",
    "\n",
    "# Define parameter grid\n",
    "param_grid = {\n",
    "    'n_estimators': [50, 100, 200],\n",
    "    'learning_rate': [0.01, 0.1, 0.2],\n",
    "    'max_depth': [3, 5, 7],\n",
    "    'subsample': [0.8, 1.0],\n",
    "    'colsample_bytree': [0.8, 1.0]\n",
    "}\n",
    "\n",
    "# Perform grid search with cross-validation\n",
    "grid_search = GridSearchCV(estimator=xgb, param_grid=param_grid, scoring='r2', cv=3, n_jobs=-1, verbose=1)\n",
    "grid_search.fit(X_train, y_train)\n",
    "\n",
    "# Display the best parameters\n",
    "best_params = grid_search.best_params_\n",
    "print(\"Best Parameters:\", best_params)\n",
    "\n",
    "# Train using the best parameters\n",
    "best_xgb = XGBRegressor(**best_params)\n",
    "best_xgb.fit(X_train, y_train)\n",
    "\n",
    "# Make predictions\n",
    "y_pred = best_xgb.predict(X_test)\n",
    "\n",
    "# Evaluate model performance\n",
    "mse = mean_squared_error(y_test, y_pred)\n",
    "mae = mean_absolute_error(y_test, y_pred)\n",
    "r2 = r2_score(y_test, y_pred)\n",
    "\n",
    "print(\"Model Performance:\")\n",
    "print(f\"Mean Squared Error (MSE): {mse:.2f}\")\n",
    "print(f\"Mean Absolute Error (MAE): {mae:.2f}\")\n",
    "print(f\"R² Score: {r2:.2f}\")\n"
   ]
  },
  {
   "cell_type": "markdown",
   "metadata": {},
   "source": [
    "### Explaination of the Model Performance Metrics\n",
    "\n",
    "  - Mean Squared Error\t0.83\tOn average, the squared prediction error is 0.83 units, suggesting that there is room for improvement in the model’s predictions.\n",
    " - Mean Absolute Error\t0.70\tThe average magnitude of prediction errors is 0.70 units. This is the average distance between predicted and actual values.\n",
    " - R² Score\t0.26\tThe model explains 26% of the variance in the target variable, indicating that it captures some patterns but still misses a significant portion of variability."
   ]
  },
  {
   "cell_type": "markdown",
   "metadata": {},
   "source": [
    "## 6.0 Build Recommendation System Using Collaborative Filftering and Content-based filtering"
   ]
  },
  {
   "cell_type": "markdown",
   "metadata": {},
   "source": [
    "### Step to follow:\n",
    "1. Data Preparation: Load and preprocess the dataset.\n",
    "2. Collaborative Filtering: Build a model using matrix factorization-based techniques.\n",
    "3. Content-Based Filtering: Handle the cold-start problem using movie features.\n",
    "4. Model Evaluation: Evaluate and interpret the model's performance for a non-technical audience."
   ]
  },
  {
   "cell_type": "markdown",
   "metadata": {},
   "source": [
    "### 6.1 Installing the additional Surprise library, Loading and preprocessing the data set"
   ]
  },
  {
   "cell_type": "code",
   "execution_count": 204,
   "metadata": {},
   "outputs": [
    {
     "name": "stdout",
     "output_type": "stream",
     "text": [
      "Requirement already satisfied: pandas in c:\\users\\elitebook\\anaconda3\\envs\\learn-env\\lib\\site-packages (1.1.3)Note: you may need to restart the kernel to use updated packages.\n",
      "Requirement already satisfied: scikit-surprise in c:\\users\\elitebook\\anaconda3\\envs\\learn-env\\lib\\site-packages (1.1.1)\n",
      "Requirement already satisfied: scikit-learn in c:\\users\\elitebook\\anaconda3\\envs\\learn-env\\lib\\site-packages (0.23.2)\n",
      "Requirement already satisfied: numpy>=1.15.4 in c:\\users\\elitebook\\anaconda3\\envs\\learn-env\\lib\\site-packages (from pandas) (1.18.5)\n",
      "Requirement already satisfied: pytz>=2017.2 in c:\\users\\elitebook\\anaconda3\\envs\\learn-env\\lib\\site-packages (from pandas) (2020.1)\n",
      "Requirement already satisfied: python-dateutil>=2.7.3 in c:\\users\\elitebook\\anaconda3\\envs\\learn-env\\lib\\site-packages (from pandas) (2.8.1)\n",
      "Requirement already satisfied: joblib>=0.11 in c:\\users\\elitebook\\anaconda3\\envs\\learn-env\\lib\\site-packages (from scikit-surprise) (0.17.0)\n",
      "Requirement already satisfied: scipy>=1.0.0 in c:\\users\\elitebook\\anaconda3\\envs\\learn-env\\lib\\site-packages (from scikit-surprise) (1.5.0)\n",
      "Requirement already satisfied: six>=1.10.0 in c:\\users\\elitebook\\anaconda3\\envs\\learn-env\\lib\\site-packages (from scikit-surprise) (1.15.0)\n",
      "Requirement already satisfied: threadpoolctl>=2.0.0 in c:\\users\\elitebook\\anaconda3\\envs\\learn-env\\lib\\site-packages (from scikit-learn) (2.1.0)\n",
      "\n"
     ]
    }
   ],
   "source": [
    "pip install pandas scikit-surprise scikit-learn"
   ]
  },
  {
   "cell_type": "code",
   "execution_count": 205,
   "metadata": {},
   "outputs": [
    {
     "name": "stdout",
     "output_type": "stream",
     "text": [
      "   userId  movieId  rating                        title  \\\n",
      "0       1        1     4.0             Toy Story (1995)   \n",
      "1       1        3     4.0      Grumpier Old Men (1995)   \n",
      "2       1        6     4.0                  Heat (1995)   \n",
      "3       1       47     5.0  Seven (a.k.a. Se7en) (1995)   \n",
      "4       1       50     5.0   Usual Suspects, The (1995)   \n",
      "\n",
      "                                        genres  \n",
      "0  Adventure|Animation|Children|Comedy|Fantasy  \n",
      "1                               Comedy|Romance  \n",
      "2                        Action|Crime|Thriller  \n",
      "3                             Mystery|Thriller  \n",
      "4                       Crime|Mystery|Thriller  \n"
     ]
    }
   ],
   "source": [
    "# Loading the Dataset\n",
    "merged_data2 = pd.read_csv(\"merged_df.csv\")\n",
    "\n",
    "# Understanding the data structure by checking the first 5 rows\n",
    "\n",
    "print(merged_data2.head())\n"
   ]
  },
  {
   "cell_type": "markdown",
   "metadata": {},
   "source": [
    "### 6.2 Performing Collaborative Filtering\n",
    "\n",
    "- Used Singular Value Decomposition (SVD) from the surprise library to perform collaborative filtering, used in recommendation systems because it can handle large sparse matrices efficiently by reducing the dimensionality of user-item interactions."
   ]
  },
  {
   "cell_type": "code",
   "execution_count": 206,
   "metadata": {},
   "outputs": [
    {
     "name": "stdout",
     "output_type": "stream",
     "text": [
      "Evaluating RMSE, MAE of algorithm SVD on 5 split(s).\n",
      "\n",
      "                  Fold 1  Fold 2  Fold 3  Fold 4  Fold 5  Mean    Std     \n",
      "RMSE (testset)    0.9495  0.9334  0.9558  0.9553  0.9382  0.9464  0.0091  \n",
      "MAE (testset)     0.7379  0.7378  0.7499  0.7487  0.7318  0.7413  0.0070  \n",
      "Fit time          1.25    4.58    3.49    3.34    2.37    3.01    1.12    \n",
      "Test time         0.05    0.10    0.08    0.10    0.06    0.08    0.02    \n"
     ]
    },
    {
     "data": {
      "text/plain": [
       "<surprise.prediction_algorithms.matrix_factorization.SVD at 0x205239766a0>"
      ]
     },
     "execution_count": 206,
     "metadata": {},
     "output_type": "execute_result"
    }
   ],
   "source": [
    "from surprise import SVD, Dataset, Reader\n",
    "from surprise.model_selection import cross_validate\n",
    "\n",
    "# Prepare the data for Surprise (requires specific format)\n",
    "reader = Reader(rating_scale=(0.5, 5.0))\n",
    "ratings_data = Dataset.load_from_df(merged_data2[['userId', 'movieId', 'rating']], reader)\n",
    "\n",
    "# Initialize and train the SVD model\n",
    "svd = SVD()\n",
    "cross_validate(svd, ratings_data, measures=['RMSE', 'MAE'], cv=5, verbose=True)\n",
    "\n",
    "# Train the model on the full dataset\n",
    "trainset = ratings_data.build_full_trainset()\n",
    "svd.fit(trainset)\n"
   ]
  },
  {
   "cell_type": "markdown",
   "metadata": {},
   "source": [
    "### 6.3 Predictions Using Collaborative Filtering\n"
   ]
  },
  {
   "cell_type": "code",
   "execution_count": 207,
   "metadata": {},
   "outputs": [
    {
     "name": "stdout",
     "output_type": "stream",
     "text": [
      "Predicted rating for user 1 and movie 10: 4.34\n"
     ]
    }
   ],
   "source": [
    "## Predict the rating for user 1 and movie 10\n",
    "user_id = 1\n",
    "movie_id = 10\n",
    "predicted_rating = svd.predict(user_id, movie_id).est\n",
    "\n",
    "print(f\"Predicted rating for user {user_id} and movie {movie_id}: {predicted_rating:.2f}\")"
   ]
  },
  {
   "cell_type": "code",
   "execution_count": 208,
   "metadata": {},
   "outputs": [
    {
     "name": "stdout",
     "output_type": "stream",
     "text": [
      "Top 5 recommendations: [(27878, 4.9939107450396945), (188797, 4.89023981152723), (65882, 4.890139033066632), (2425, 4.888579809594734), (53123, 4.882709648585286)]\n"
     ]
    }
   ],
   "source": [
    "def get_top_n_recommendations(user_id, n=5):\n",
    "    movie_ids = merged_data2['movieId'].unique()\n",
    "    predictions = [svd.predict(user_id, movie_id) for movie_id in movie_ids]\n",
    "    top_n = sorted(predictions, key=lambda x: x.est, reverse=True)[:n]\n",
    "    \n",
    "    return [(pred.iid, pred.est) for pred in top_n]\n",
    "\n",
    "# Get top 5 recommendations for user 1\n",
    "recommendations = get_top_n_recommendations(1, n=5)\n",
    "print(\"Top 5 recommendations:\", recommendations)\n"
   ]
  },
  {
   "cell_type": "markdown",
   "metadata": {},
   "source": [
    "### 6.4 Building the Model Using Content-Based Filtering (Cold Start Problem)"
   ]
  },
  {
   "cell_type": "code",
   "execution_count": 209,
   "metadata": {},
   "outputs": [
    {
     "name": "stdout",
     "output_type": "stream",
     "text": [
      "Movies similar to Toy Story (1995): ['Toy Story 2 (1999)', 'Monsters, Inc. (2001)', 'Antz (1998)', 'Adventures of Rocky and Bullwinkle, The (2000)', \"Emperor's New Groove, The (2000)\"]\n"
     ]
    },
    {
     "data": {
      "text/plain": [
       "['Toy Story 2 (1999)',\n",
       " 'Monsters, Inc. (2001)',\n",
       " 'Antz (1998)',\n",
       " 'Adventures of Rocky and Bullwinkle, The (2000)',\n",
       " \"Emperor's New Groove, The (2000)\"]"
      ]
     },
     "execution_count": 209,
     "metadata": {},
     "output_type": "execute_result"
    }
   ],
   "source": [
    "from sklearn.feature_extraction.text import TfidfVectorizer\n",
    "from sklearn.metrics.pairwise import linear_kernel\n",
    "\n",
    "# Fill NaN values and compute TF-IDF matrix for genres\n",
    "merged_data2['genres'] = merged_data2['genres'].fillna('')\n",
    "tfidf = TfidfVectorizer(stop_words='english')\n",
    "tfidf_matrix = tfidf.fit_transform(merged_data2['genres'])\n",
    "\n",
    "# Compute cosine similarity between movies\n",
    "cosine_sim = linear_kernel(tfidf_matrix, tfidf_matrix)\n",
    "\n",
    "# Mapping movie indices to titles for recommendations\n",
    "indices = pd.Series(merged_data2.index, index=merged_data2['title']).drop_duplicates()\n",
    "\n",
    "def recommend_movies_by_content(title, n=5):\n",
    "    # Get the index of the movie\n",
    "    idx = indices[title]\n",
    "\n",
    "    # Get similarity scores and sort them\n",
    "    sim_scores = list(enumerate(cosine_sim[idx]))\n",
    "    sim_scores = sorted(sim_scores, key=lambda x: x[1], reverse=True)\n",
    "\n",
    "    # Get the indices of the top N similar movies\n",
    "    top_indices = [i[0] for i in sim_scores[1:n+1]]\n",
    "\n",
    "    # Return the titles of the recommended movies\n",
    "    return merged_data2['title'].iloc[top_indices].tolist()\n",
    "\n",
    "# Recommend 5 movies similar to \"Toy Story (1995)\"\n",
    "print(\"Movies similar to Toy Story (1995):\", recommend_movies_by_content(\"Toy Story (1995)\", n=5))\n",
    "\n",
    "# List \n",
    "recommended_movies = recommend_movies_by_content(\"Toy Story (1995)\", n=5)\n",
    "recommended_movies"
   ]
  },
  {
   "cell_type": "markdown",
   "metadata": {},
   "source": [
    "### 6.5 Evaluate the performance of the collaborative filtering model using Root Mean Squared Error (RMSE) and Mean Absolute Error (MAE)"
   ]
  },
  {
   "cell_type": "code",
   "execution_count": 210,
   "metadata": {},
   "outputs": [
    {
     "name": "stdout",
     "output_type": "stream",
     "text": [
      "Evaluating RMSE, MAE of algorithm SVD on 5 split(s).\n",
      "\n",
      "                  Fold 1  Fold 2  Fold 3  Fold 4  Fold 5  Mean    Std     \n",
      "RMSE (testset)    0.9802  0.9357  0.9358  0.9618  0.9249  0.9477  0.0203  \n",
      "MAE (testset)     0.7651  0.7374  0.7328  0.7553  0.7214  0.7424  0.0158  \n",
      "Fit time          1.39    1.62    1.32    0.97    0.93    1.25    0.26    \n",
      "Test time         0.02    0.03    0.02    0.03    0.02    0.02    0.01    \n",
      "Average RMSE: 0.95\n",
      "Average MAE: 0.74\n"
     ]
    }
   ],
   "source": [
    "# Load the dataset\n",
    "merged_data3 = pd.read_csv('merged_df.csv')\n",
    "\n",
    "# Prepare the data for collaborative filtering using the Surprise library\n",
    "reader = Reader(rating_scale=(0.5, 5.0))\n",
    "ratings_data = Dataset.load_from_df(merged_data3[['userId', 'movieId', 'rating']], reader)\n",
    "\n",
    "# Initialize the SVD model (collaborative filtering)\n",
    "svd = SVD()\n",
    "\n",
    "# Perform cross-validation and capture evaluation metrics\n",
    "cv_results = cross_validate(svd, ratings_data, measures=['RMSE', 'MAE'], cv=5, verbose=True)\n",
    "\n",
    "# Calculate average RMSE and MAE from cross-validation\n",
    "avg_rmse = cv_results['test_rmse'].mean()\n",
    "avg_mae = cv_results['test_mae'].mean()\n",
    "\n",
    "print(f\"Average RMSE: {avg_rmse:.2f}\")\n",
    "print(f\"Average MAE: {avg_mae:.2f}\")\n"
   ]
  },
  {
   "cell_type": "markdown",
   "metadata": {},
   "source": [
    "### Explaination:\n",
    "- Root Mean Squared Error (RMSE): \n",
    "    - Measures the average squared difference between predicted and actual ratings.\n",
    "    - Smaller RMSE values indicate more accurate predictions.\n",
    "    - RMSE = 0.95 means the average prediction error is 0.95 stars.\n",
    " \n",
    "- Mean Absolute Error (MAE): Measures the average magnitude of prediction errors.\n",
    "    - MAE is less sensitive to outliers than RMSE.\n",
    "    - MAE = 0.74 means that, on average, the model’s predictions deviate by 0.74 stars"
   ]
  },
  {
   "cell_type": "markdown",
   "metadata": {},
   "source": [
    "### 6.6 Visualization of Recommended Movies:-"
   ]
  },
  {
   "cell_type": "code",
   "execution_count": 211,
   "metadata": {},
   "outputs": [
    {
     "data": {
      "image/png": "[encoded data removed]",
      "text/plain": [
       "<Figure size 576x360 with 1 Axes>"
      ]
     },
     "metadata": {},
     "output_type": "display_data"
    }
   ],
   "source": [
    "## Visualize the recommended movies\n",
    "plt.figure(figsize=(8, 5))\n",
    "plt.barh(recommended_movies[::-1], range(1, 6)[::-1], color='skyblue')\n",
    "plt.xlabel('Recommendation Rank')\n",
    "plt.title('Top 5 Movies Recommended for \"Toy Story (1995)\"')\n",
    "plt.gca().invert_yaxis()  # Invert y-axis to have the best recommendation at the top\n",
    "plt.show()"
   ]
  },
  {
   "cell_type": "markdown",
   "metadata": {},
   "source": [
    "### 7.0 Recommendations"
   ]
  },
  {
   "cell_type": "markdown",
   "metadata": {},
   "source": [
    "1. Collaborative Filtering would be fit for Existing Users:\n",
    "     - Collaborative filtering works best when a large amount of user-item interaction data is available. It effectively captures user preferences and offers personalized recommendations\n",
    "\n",
    "2. Content-Based Filtering would be fit for New Users or Items:\n",
    "     - Content-based filtering is crucial for addressing the cold-start problem, as it can recommend items based on their features (e.g., genres, keywords) without needing historical ratings.\n",
    "\n",
    "3. Hybrid Approach for Robustness:\n",
    "    - Consider combining both approaches to build a hybrid recommender system:\n",
    "        - Use collaborative filtering when sufficient interaction data is available.\n",
    "        - Fallback to content-based filtering for new users or items.\n"
   ]
  },
  {
   "cell_type": "markdown",
   "metadata": {},
   "source": [
    "## 8.0 Model Performance Summary:\n",
    "\n",
    "- The collaborative filtering model achieved an average RMSE of 0.95 and an MAE of 0.74, indicating reasonably accurate predictions.\n",
    "- The content-based filtering system successfully recommended 5 similar movies to Toy Story (1995), demonstrating its ability to recommend items based on genres."
   ]
  },
  {
   "cell_type": "markdown",
   "metadata": {},
   "source": [
    "## 9.0 Next Steps\n",
    "\n",
    "-  The organization can further improve the model performance using both approaches into a hybrid recommender system, then Deploy the Recommendation System as an API to further improve on recommendations"
   ]
  }
 ],
 "metadata": {
  "kernelspec": {
   "display_name": "learn-env",
   "language": "python",
   "name": "python3"
  },
  "language_info": {
   "codemirror_mode": {
    "name": "ipython",
    "version": 3
   },
   "file_extension": ".py",
   "mimetype": "text/x-python",
   "name": "python",
   "nbconvert_exporter": "python",
   "pygments_lexer": "ipython3",
   "version": "3.8.5"
  }
 },
 "nbformat": 4,
 "nbformat_minor": 2
}
